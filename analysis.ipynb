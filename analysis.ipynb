{
 "cells": [
  {
   "cell_type": "code",
   "execution_count": 1,
   "metadata": {
    "collapsed": true
   },
   "outputs": [],
   "source": [
    "# imports\n",
    "%matplotlib inline\n",
    "import matplotlib.pyplot as plt\n",
    "import matplotlib as mpl\n",
    "import numpy as np\n",
    "import geopandas as gpd\n",
    "import pandas as pd\n",
    "import subprocess\n",
    "import os"
   ]
  },
  {
   "cell_type": "code",
   "execution_count": 2,
   "metadata": {
    "collapsed": true
   },
   "outputs": [],
   "source": [
    "# Downloads\n",
    "\n",
    "data_dir = 'data/'\n",
    "# crime data\n",
    "crime_url = 'http://webarchive.nationalarchives.gov.uk/+/http://www.homeoffice.gov.uk/publications/science-research-statistics/research-statistics/crime-research/local-police-recorded-crime/reccrime-la.csv?view=Binary'\n",
    "if not os.path.exists(data_dir + 'crime.csv'):\n",
    "    subprocess.call(['wget',crime_url,'-O',data_dir + 'crime.csv'])\n",
    "\n",
    "# population data\n",
    "pop_url = 'https://www.ons.gov.uk/file?uri=/peoplepopulationandcommunity/populationandmigration/populationestimates/datasets/populationestimatesforukenglandandwalesscotlandandnorthernireland/mid2001tomid2010/mid2001tomid2012ukpopulationestimatesv2.zip'\n",
    "if not os.path.exists(data_dir + 'pop.zip'):\n",
    "    subprocess.call(['wget',pop_url,'-O',data_dir + 'pop.zip'])\n",
    "    subprocess.call(['unzip','-j',data_dir + 'pop.zip','MYE6PE3_mid-2001-mid-2012-unformatted-syoa-data-file.xls','-d','data'])\n",
    "    \n",
    "# geojson shape data\n",
    "geo_json_url = 'https://raw.githubusercontent.com/martinjc/UK-GeoJSON/master/json/administrative/eng/lad.json'\n",
    "if not os.path.exists(data_dir + 'lad.json'):\n",
    "    subprocess.call(['wget',geo_json_url,'-O',data_dir + 'lad.json'])"
   ]
  },
  {
   "cell_type": "code",
   "execution_count": 3,
   "metadata": {
    "collapsed": false
   },
   "outputs": [],
   "source": [
    "# cleaning crime\n",
    "crime = pd.read_csv(data_dir + 'crime.csv')\n",
    "crime.columns = ['year'] + ['_'.join(x.lower().split()) for x in crime.columns[1:-1]] + ['total']\n",
    "crime.year = pd.to_datetime(crime.year,format='%d/%m/%Y')\n",
    "crime = crime.rename(columns={'onscode':'code'})\n",
    "crime = crime[['year','code','offence','total']]\n",
    "\n",
    "# only keep march year starts\n",
    "crime['month'] = crime.year.map(lambda x : x.month)\n",
    "crime = crime[crime.month == 3]\n",
    "crime = crime.drop('month',axis=1)\n",
    "\n",
    "# drop transport police data\n",
    "crime = crime[crime.code != 'Delete']"
   ]
  },
  {
   "cell_type": "code",
   "execution_count": 4,
   "metadata": {
    "collapsed": false
   },
   "outputs": [],
   "source": [
    "# cleaning geo\n",
    "geo = gpd.read_file(data_dir + 'lad.json')\n",
    "geo = geo.rename(columns={'LAD13CDO':'code'})\n",
    "geo.index = geo.code\n",
    "\n",
    "crime = crime[crime.code.isin(geo.code)]\n",
    "\n",
    "geo.loc['00EM','LAD13CD'] = 'E06000048'\n",
    "geo.loc['26UD','LAD13CD'] = 'E07000097'\n",
    "geo.loc['26UH','LAD13CD'] = 'E07000101'\n",
    "geo.loc['00CH','LAD13CD'] = 'E08000020'"
   ]
  },
  {
   "cell_type": "code",
   "execution_count": 5,
   "metadata": {
    "collapsed": false
   },
   "outputs": [],
   "source": [
    "# join crime and geo\n",
    "df = geo.merge(crime)\n",
    "df = df.drop('LAD13NMW',axis=1)"
   ]
  },
  {
   "cell_type": "code",
   "execution_count": 6,
   "metadata": {
    "collapsed": false
   },
   "outputs": [
    {
     "name": "stderr",
     "output_type": "stream",
     "text": [
      "/Users/joshua/anaconda/lib/python2.7/site-packages/ipykernel/__main__.py:8: SettingWithCopyWarning: \n",
      "A value is trying to be set on a copy of a slice from a DataFrame.\n",
      "Try using .loc[row_indexer,col_indexer] = value instead\n",
      "\n",
      "See the caveats in the documentation: http://pandas.pydata.org/pandas-docs/stable/indexing.html#indexing-view-versus-copy\n"
     ]
    }
   ],
   "source": [
    "# cleaning pop\n",
    "def clean_pop_df(pops,i,df):\n",
    "    pops.columns = pops.iloc[0,:]\n",
    "    # want males + females\n",
    "    pops = pops[1:456]\n",
    "\n",
    "    # only want england\n",
    "    pops['temp'] = pops.Code.map(lambda x : x[0] == 'E')\n",
    "    pops = pops[pops.temp == True]\n",
    "    pops = pops.drop('temp',axis=1)\n",
    "\n",
    "    # only want all ages\n",
    "    pops = pops.iloc[:,:3]\n",
    "    pops = pops[pops.Code.isin(df.LAD13CD)]\n",
    "    \n",
    "    pops['year'] = str(2000 + i)\n",
    "    \n",
    "    pops = pops.rename(columns={'Code':'code'})\n",
    "    pops = pops.iloc[:,[0,2,3]]\n",
    "    \n",
    "    return pops\n",
    "\n",
    "pops = [pd.read_excel(data_dir + 'MYE6PE3_mid-2001-mid-2012-unformatted-syoa-data-file.xls',sheetname=i) for i in range(3,12)]\n",
    "pops = [clean_pop_df(pop,i+3,geo) for i,pop in enumerate(pops)]\n",
    "\n",
    "pops = pd.concat(pops)\n",
    "\n",
    "pops.year = pd.to_datetime(pops.year,format='%Y')"
   ]
  },
  {
   "cell_type": "code",
   "execution_count": 7,
   "metadata": {
    "collapsed": false
   },
   "outputs": [],
   "source": [
    "df = df.drop('code',axis=1)\n",
    "df = df.rename(columns={'LAD13CD':'code'})\n",
    "df.year = df.year.map(lambda x : x.year)\n",
    "df.year = pd.to_datetime(df.year,format='%Y')\n",
    "\n",
    "df = df.merge(pops,on=['code','year'],how='outer')\n",
    "\n",
    "df['per1000'] = (df.total / df[' ALL AGES']) * 1000\n",
    "df['per1000'] = df['per1000'].astype(float)\n",
    "\n",
    "df[' All AGES'] = df[' ALL AGES'].astype(float)"
   ]
  },
  {
   "cell_type": "code",
   "execution_count": 8,
   "metadata": {
    "collapsed": true
   },
   "outputs": [],
   "source": [
    "def crime_increases(code):\n",
    "\n",
    "    area = df[df.code == code]\n",
    "\n",
    "    year0 = area.pivot_table(values='per1000',index='year',columns='offence').iloc[0,:]\n",
    "    yearN = area.pivot_table(values='per1000',index='year',columns='offence').iloc[-1,:]\n",
    "\n",
    "    change = (yearN - year0)/year0\n",
    "    \n",
    "    return dict(change)"
   ]
  },
  {
   "cell_type": "code",
   "execution_count": 9,
   "metadata": {
    "collapsed": false
   },
   "outputs": [],
   "source": [
    "crime_increase_data = {code:crime_increases(code) for code in df.code.unique()}\n",
    "crime_increase_df = pd.DataFrame(crime_increase_data).T\n",
    "\n",
    "geo.index = geo.LAD13CD\n",
    "crime_increase_df = crime_increase_df.join(geo)\n",
    "crime_increase_df = gpd.GeoDataFrame(crime_increase_df)"
   ]
  },
  {
   "cell_type": "code",
   "execution_count": 10,
   "metadata": {
    "collapsed": false
   },
   "outputs": [],
   "source": [
    "with open('data/drug_change.json','wb') as f:\n",
    "    f.write(crime_increase_df[['LAD13CD','LAD13NM','geometry','Drug offences']].to_json())"
   ]
  },
  {
   "cell_type": "markdown",
   "metadata": {},
   "source": [
    "- The file drug_change.json now has all the data needed to produce the viz, the current shapes are however quite detailed and so the page will load slowly. It is possible to simplify the geojson file using the following website -> http://www.mapshaper.org/\n",
    "- Should really look into how to do this in python!"
   ]
  },
  {
   "cell_type": "code",
   "execution_count": null,
   "metadata": {
    "collapsed": true
   },
   "outputs": [],
   "source": []
  }
 ],
 "metadata": {
  "anaconda-cloud": {},
  "kernelspec": {
   "display_name": "Python [conda root]",
   "language": "python",
   "name": "conda-root-py"
  },
  "language_info": {
   "codemirror_mode": {
    "name": "ipython",
    "version": 2
   },
   "file_extension": ".py",
   "mimetype": "text/x-python",
   "name": "python",
   "nbconvert_exporter": "python",
   "pygments_lexer": "ipython2",
   "version": "2.7.11"
  },
  "latex_envs": {
   "bibliofile": "biblio.bib",
   "cite_by": "apalike",
   "current_citInitial": 1,
   "eqLabelWithNumbers": true,
   "eqNumInitial": 0
  },
  "toc": {
   "nav_menu": {
    "height": "12px",
    "width": "252px"
   },
   "navigate_menu": true,
   "number_sections": true,
   "sideBar": true,
   "threshold": 4,
   "toc_cell": false,
   "toc_section_display": "block",
   "toc_window_display": false
  }
 },
 "nbformat": 4,
 "nbformat_minor": 0
}
